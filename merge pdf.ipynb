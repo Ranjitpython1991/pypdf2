{
 "cells": [
  {
   "cell_type": "code",
   "execution_count": null,
   "id": "df461b2c",
   "metadata": {},
   "outputs": [],
   "source": []
  },
  {
   "cell_type": "code",
   "execution_count": 32,
   "id": "f739338d",
   "metadata": {},
   "outputs": [],
   "source": [
    "# importing required modules\n",
    "import PyPDF2"
   ]
  },
  {
   "cell_type": "code",
   "execution_count": 33,
   "id": "86b4bc9f",
   "metadata": {},
   "outputs": [],
   "source": [
    "from PyPDF2 import PdfFileReader , PdfFileWriter"
   ]
  },
  {
   "cell_type": "raw",
   "id": "1dc0e4f5",
   "metadata": {},
   "source": [
    "# creating pdf file merger object\n",
    "pdfMerger = PyPDF2.PdfFileMerger()\n",
    "\n",
    "# appending pdfs one by one\n",
    "for pdf in pdfs:\n",
    "    pdfmerger.append(pdf)\n",
    "\n",
    "# writing combined pdf to output pdf file\n",
    "with open(output, 'wb') as f:\n",
    "    pdfMerger.write(f)\n",
    " # pdf files to merge\n",
    "pdfs = ['example.pdf', 'rotated_example.pdf']\n",
    "\n",
    "# output pdf file name\n",
    "output = 'combined_example.pdf'\n",
    "\n",
    "# calling pdf merge function\n",
    "PDFmerge(pdfs=pdfs, output=output)"
   ]
  },
  {
   "cell_type": "code",
   "execution_count": 41,
   "id": "4a0f554c",
   "metadata": {},
   "outputs": [],
   "source": [
    "pdfpath =['newimage.pdf','cnewimage.pdf']"
   ]
  },
  {
   "cell_type": "code",
   "execution_count": 42,
   "id": "400eab2c",
   "metadata": {},
   "outputs": [],
   "source": [
    "# creating a pdf writer object for new pdf\n",
    "pdfWriter = PyPDF2.PdfFileWriter()"
   ]
  },
  {
   "cell_type": "code",
   "execution_count": 43,
   "id": "9ba1e959",
   "metadata": {},
   "outputs": [],
   "source": [
    "for i in pdfpath :\n",
    "    pdf=PdfFileReader(i,'rb')\n",
    "    for page in range(pdf.numPages):\n",
    "        pdfWriter.addPage(pdf.getPage(page))\n",
    "    "
   ]
  },
  {
   "cell_type": "code",
   "execution_count": 46,
   "id": "2086fc81",
   "metadata": {},
   "outputs": [],
   "source": [
    "# writing combined pdf to output pdf file\n",
    "with open('Newmerge.pdf', 'wb') as f:\n",
    "        pdfWriter.write(f)"
   ]
  },
  {
   "cell_type": "code",
   "execution_count": null,
   "id": "0a3722c9",
   "metadata": {},
   "outputs": [],
   "source": []
  },
  {
   "cell_type": "code",
   "execution_count": null,
   "id": "4f03d902",
   "metadata": {},
   "outputs": [],
   "source": []
  },
  {
   "cell_type": "code",
   "execution_count": null,
   "id": "0ae080f0",
   "metadata": {},
   "outputs": [],
   "source": []
  }
 ],
 "metadata": {
  "kernelspec": {
   "display_name": "Python 3 (ipykernel)",
   "language": "python",
   "name": "python3"
  },
  "language_info": {
   "codemirror_mode": {
    "name": "ipython",
    "version": 3
   },
   "file_extension": ".py",
   "mimetype": "text/x-python",
   "name": "python",
   "nbconvert_exporter": "python",
   "pygments_lexer": "ipython3",
   "version": "3.9.12"
  }
 },
 "nbformat": 4,
 "nbformat_minor": 5
}
