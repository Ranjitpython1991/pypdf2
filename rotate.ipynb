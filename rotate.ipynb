{
 "cells": [
  {
   "cell_type": "code",
   "execution_count": null,
   "id": "a7542af0",
   "metadata": {},
   "outputs": [],
   "source": []
  },
  {
   "cell_type": "code",
   "execution_count": 3,
   "id": "289f582a",
   "metadata": {},
   "outputs": [],
   "source": [
    "\n",
    "# importing required modules\n",
    "import PyPDF2"
   ]
  },
  {
   "cell_type": "code",
   "execution_count": 4,
   "id": "c2d1583f",
   "metadata": {},
   "outputs": [],
   "source": [
    "pdfFileObj=open('image.pdf', 'rb')"
   ]
  },
  {
   "cell_type": "code",
   "execution_count": 5,
   "id": "200e9a1a",
   "metadata": {},
   "outputs": [],
   "source": [
    "# creating a pdf reader object\n",
    "pdfReader = PyPDF2.PdfFileReader(pdfFileObj)"
   ]
  },
  {
   "cell_type": "code",
   "execution_count": 6,
   "id": "093bd5fa",
   "metadata": {},
   "outputs": [],
   "source": [
    "# creating a pdf writer object for new pdf\n",
    "pdfWriter = PyPDF2.PdfFileWriter()"
   ]
  },
  {
   "cell_type": "code",
   "execution_count": 7,
   "id": "641e21a6",
   "metadata": {},
   "outputs": [
    {
     "name": "stdout",
     "output_type": "stream",
     "text": [
      "1\n"
     ]
    }
   ],
   "source": [
    "# printing number of pages in pdf file\n",
    "print(pdfReader.numPages)"
   ]
  },
  {
   "cell_type": "code",
   "execution_count": 8,
   "id": "dbe18167",
   "metadata": {},
   "outputs": [],
   "source": [
    "# creating a page object\n",
    "pageObj = pdfReader.getPage(0)"
   ]
  },
  {
   "cell_type": "code",
   "execution_count": 9,
   "id": "6bbfe47e",
   "metadata": {},
   "outputs": [
    {
     "data": {
      "text/plain": [
       "{'/Contents': {'/Filter': '/FlateDecode'},\n",
       " '/MediaBox': [0, 0, 595, 842],\n",
       " '/Parent': {'/Count': 1,\n",
       "  '/Kids': [IndirectObject(4, 0, 1456147501840)],\n",
       "  '/Type': '/Pages'},\n",
       " '/Resources': {'/ColorSpace': {'/Cs1': ['/ICCBased',\n",
       "    IndirectObject(8, 0, 1456147501840)]},\n",
       "  '/ExtGState': {'/Gs1': {'/AAPL:AA': False, '/Type': '/ExtGState'},\n",
       "   '/Gs2': {'/AAPL:AA': True, '/Type': '/ExtGState'}},\n",
       "  '/Font': {'/TT2': {'/BaseFont': '/DHBLVF+ArialMT',\n",
       "    '/FirstChar': 33,\n",
       "    '/FontDescriptor': {'/Ascent': 905,\n",
       "     '/AvgWidth': 441,\n",
       "     '/CapHeight': 716,\n",
       "     '/Descent': -212,\n",
       "     '/Flags': 4,\n",
       "     '/FontBBox': [-665, -325, 2000, 1039],\n",
       "     '/FontFile2': {'/Filter': '/FlateDecode', '/Length1': 3924},\n",
       "     '/FontName': '/DHBLVF+ArialMT',\n",
       "     '/ItalicAngle': 0,\n",
       "     '/Leading': 33,\n",
       "     '/MaxWidth': 2000,\n",
       "     '/StemV': 0,\n",
       "     '/Type': '/FontDescriptor',\n",
       "     '/XHeight': 519},\n",
       "    '/LastChar': 73,\n",
       "    '/Subtype': '/TrueType',\n",
       "    '/ToUnicode': {'/Filter': '/FlateDecode'},\n",
       "    '/Type': '/Font',\n",
       "    '/Widths': [278,\n",
       "     722,\n",
       "     556,\n",
       "     333,\n",
       "     556,\n",
       "     556,\n",
       "     222,\n",
       "     278,\n",
       "     556,\n",
       "     556,\n",
       "     556,\n",
       "     833,\n",
       "     278,\n",
       "     500,\n",
       "     222,\n",
       "     556,\n",
       "     556,\n",
       "     278,\n",
       "     667,\n",
       "     556,\n",
       "     556,\n",
       "     500,\n",
       "     278,\n",
       "     722,\n",
       "     556,\n",
       "     833,\n",
       "     500,\n",
       "     667,\n",
       "     500,\n",
       "     667,\n",
       "     222,\n",
       "     722,\n",
       "     611,\n",
       "     667,\n",
       "     778,\n",
       "     667,\n",
       "     722,\n",
       "     278,\n",
       "     556,\n",
       "     778,\n",
       "     278]}},\n",
       "  '/ProcSet': ['/PDF', '/Text', '/ImageB', '/ImageC', '/ImageI'],\n",
       "  '/XObject': {'/Im2': {'/BitsPerComponent': 8,\n",
       "    '/ColorSpace': ['/ICCBased', IndirectObject(8, 0, 1456147501840)],\n",
       "    '/Filter': '/DCTDecode',\n",
       "    '/Height': 1674,\n",
       "    '/Intent': '/Perceptual',\n",
       "    '/Interpolate': True,\n",
       "    '/Subtype': '/Image',\n",
       "    '/Type': '/XObject',\n",
       "    '/Width': 1379}}},\n",
       " '/Type': '/Page',\n",
       " '/Rotate': 90}"
      ]
     },
     "execution_count": 9,
     "metadata": {},
     "output_type": "execute_result"
    }
   ],
   "source": [
    "pageObj.rotateClockwise(90)"
   ]
  },
  {
   "cell_type": "code",
   "execution_count": 10,
   "id": "36997f6d",
   "metadata": {},
   "outputs": [],
   "source": [
    " # adding rotated page object to pdf writer\n",
    "pdfWriter.addPage(pageObj)"
   ]
  },
  {
   "cell_type": "code",
   "execution_count": 13,
   "id": "0feced25",
   "metadata": {},
   "outputs": [],
   "source": [
    "# new pdf file object\n",
    "newFile = open('new.pdf', 'wb')\n",
    "\n",
    "# writing rotated pages to new file\n",
    "pdfWriter.write(newFile)\n",
    "\n",
    "# closing the original pdf file object\n",
    "pdfFileObj.close()\n",
    "\n",
    "# closing the new pdf file object\n",
    "newFile.close()"
   ]
  },
  {
   "cell_type": "code",
   "execution_count": null,
   "id": "5e12b7e5",
   "metadata": {},
   "outputs": [],
   "source": []
  },
  {
   "cell_type": "code",
   "execution_count": null,
   "id": "5ff88828",
   "metadata": {},
   "outputs": [],
   "source": []
  },
  {
   "cell_type": "code",
   "execution_count": null,
   "id": "138e64a5",
   "metadata": {},
   "outputs": [],
   "source": []
  },
  {
   "cell_type": "code",
   "execution_count": null,
   "id": "8c4eb30d",
   "metadata": {},
   "outputs": [],
   "source": []
  },
  {
   "cell_type": "code",
   "execution_count": null,
   "id": "a02f251a",
   "metadata": {},
   "outputs": [],
   "source": []
  },
  {
   "cell_type": "code",
   "execution_count": null,
   "id": "d8c95833",
   "metadata": {},
   "outputs": [],
   "source": []
  },
  {
   "cell_type": "code",
   "execution_count": null,
   "id": "1d91a121",
   "metadata": {},
   "outputs": [],
   "source": []
  },
  {
   "cell_type": "code",
   "execution_count": null,
   "id": "ccc56292",
   "metadata": {},
   "outputs": [],
   "source": []
  }
 ],
 "metadata": {
  "kernelspec": {
   "display_name": "Python 3 (ipykernel)",
   "language": "python",
   "name": "python3"
  },
  "language_info": {
   "codemirror_mode": {
    "name": "ipython",
    "version": 3
   },
   "file_extension": ".py",
   "mimetype": "text/x-python",
   "name": "python",
   "nbconvert_exporter": "python",
   "pygments_lexer": "ipython3",
   "version": "3.9.12"
  }
 },
 "nbformat": 4,
 "nbformat_minor": 5
}
