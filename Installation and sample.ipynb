{
 "cells": [
  {
   "cell_type": "code",
   "execution_count": null,
   "id": "830719a8",
   "metadata": {},
   "outputs": [],
   "source": []
  },
  {
   "cell_type": "code",
   "execution_count": 1,
   "id": "93504e3e",
   "metadata": {},
   "outputs": [],
   "source": [
    "# learn about pypdf"
   ]
  },
  {
   "cell_type": "code",
   "execution_count": null,
   "id": "b712e9b1",
   "metadata": {},
   "outputs": [],
   "source": [
    "Installation"
   ]
  },
  {
   "cell_type": "code",
   "execution_count": null,
   "id": "2606b3ea",
   "metadata": {},
   "outputs": [],
   "source": [
    "pip install PyPDF2"
   ]
  },
  {
   "cell_type": "code",
   "execution_count": null,
   "id": "708488a6",
   "metadata": {},
   "outputs": [],
   "source": [
    "pip install PyPDF2[crypto]"
   ]
  },
  {
   "cell_type": "code",
   "execution_count": 16,
   "id": "ba9bdeb2",
   "metadata": {},
   "outputs": [
    {
     "name": "stdout",
     "output_type": "stream",
     "text": [
      "2.5.0\n"
     ]
    }
   ],
   "source": [
    "print(PyPDF2.__version__)"
   ]
  },
  {
   "cell_type": "code",
   "execution_count": 4,
   "id": "08aea343",
   "metadata": {},
   "outputs": [],
   "source": [
    "import PyPDF2"
   ]
  },
  {
   "cell_type": "code",
   "execution_count": 5,
   "id": "88159e08",
   "metadata": {},
   "outputs": [],
   "source": [
    "from PyPDF2 import PdfReader"
   ]
  },
  {
   "cell_type": "code",
   "execution_count": 6,
   "id": "5c48302b",
   "metadata": {},
   "outputs": [],
   "source": [
    "reader = PdfReader(r'D:\\pypdf2\\sample.pdf')\n",
    "number_of_pages = len(reader.pages)\n",
    "page = reader.pages[0]\n",
    "text = page.extract_text()"
   ]
  },
  {
   "cell_type": "code",
   "execution_count": 13,
   "id": "a7e550de",
   "metadata": {},
   "outputs": [
    {
     "name": "stdout",
     "output_type": "stream",
     "text": [
      "number_of_pages 2\n",
      " A Simple PDF File \n",
      "\n",
      " This is a small demonstration .pdf file - \n",
      "\n",
      " just for use in the Virtual Mechanics tutorials. More text. And more \n",
      "\n",
      " text. And more text. And more text. And more text. \n",
      "\n",
      " And more text. And more text. And more text. And more text. And more \n",
      "\n",
      " text. And more text. Boring, zzzzz. And more text. And more text. And \n",
      "\n",
      " more text. And more text. And more text. And more text. And more text. \n",
      "\n",
      " And more text. And more text. \n",
      "\n",
      " And more text. And more text. And more text. And more text. And more \n",
      "\n",
      " text. And more text. And more text. Even more. Continued on page 2 ...\n"
     ]
    }
   ],
   "source": [
    "print(\"number_of_pages\",number_of_pages)\n",
    "print(text)"
   ]
  },
  {
   "cell_type": "code",
   "execution_count": 15,
   "id": "aff80280",
   "metadata": {},
   "outputs": [
    {
     "data": {
      "text/plain": [
       "<PyPDF2._page._VirtualList at 0x23b16d13a60>"
      ]
     },
     "execution_count": 15,
     "metadata": {},
     "output_type": "execute_result"
    }
   ],
   "source": [
    "reader.pages"
   ]
  },
  {
   "cell_type": "code",
   "execution_count": null,
   "id": "d26d435e",
   "metadata": {},
   "outputs": [],
   "source": []
  },
  {
   "cell_type": "code",
   "execution_count": null,
   "id": "8274e420",
   "metadata": {},
   "outputs": [],
   "source": []
  }
 ],
 "metadata": {
  "kernelspec": {
   "display_name": "Python 3 (ipykernel)",
   "language": "python",
   "name": "python3"
  },
  "language_info": {
   "codemirror_mode": {
    "name": "ipython",
    "version": 3
   },
   "file_extension": ".py",
   "mimetype": "text/x-python",
   "name": "python",
   "nbconvert_exporter": "python",
   "pygments_lexer": "ipython3",
   "version": "3.9.12"
  }
 },
 "nbformat": 4,
 "nbformat_minor": 5
}
