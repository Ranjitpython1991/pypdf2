{
 "cells": [
  {
   "cell_type": "code",
   "execution_count": null,
   "id": "c67cdb3b",
   "metadata": {},
   "outputs": [],
   "source": []
  },
  {
   "cell_type": "code",
   "execution_count": 3,
   "id": "097d32aa",
   "metadata": {},
   "outputs": [],
   "source": [
    "# importing required modules\n",
    "import PyPDF2"
   ]
  },
  {
   "cell_type": "code",
   "execution_count": 4,
   "id": "e62f7514",
   "metadata": {},
   "outputs": [],
   "source": [
    "from PyPDF2 import PdfFileReader , PdfFileWriter"
   ]
  },
  {
   "cell_type": "code",
   "execution_count": 6,
   "id": "5648763f",
   "metadata": {},
   "outputs": [],
   "source": [
    "path='Book.pdf'"
   ]
  },
  {
   "cell_type": "code",
   "execution_count": 7,
   "id": "a51902b2",
   "metadata": {},
   "outputs": [],
   "source": [
    "pdf=PdfFileReader(path,'rb')"
   ]
  },
  {
   "cell_type": "code",
   "execution_count": 16,
   "id": "cb5b9e66",
   "metadata": {},
   "outputs": [
    {
     "data": {
      "text/plain": [
       "168"
      ]
     },
     "execution_count": 16,
     "metadata": {},
     "output_type": "execute_result"
    }
   ],
   "source": [
    "pdf.documentInfo\n",
    "pdf.numPages"
   ]
  },
  {
   "cell_type": "raw",
   "id": "354e10d8",
   "metadata": {},
   "source": [
    "# conver into pdf for whole book\n",
    "for i in range(pdf.numPages) :\n",
    "    writer=PdfFileWriter()\n",
    "    writer.addPage(pdf.getPage(i))\n",
    "    output=f'page{i+1}.pdf'\n",
    "    with open (output,'wb') as out:\n",
    "        writer.write(out)\n",
    "    \n",
    "    "
   ]
  },
  {
   "cell_type": "code",
   "execution_count": 28,
   "id": "91d2643c",
   "metadata": {},
   "outputs": [],
   "source": [
    "# for specific page\n",
    "for i in range(2,8):\n",
    "    writer=PdfFileWriter()\n",
    "    writer.addPage(pdf.getPage(i))\n",
    "    output=f'page{i+1}.pdf'\n",
    "    with open (output,'wb') as out:\n",
    "        writer.write(out)\n",
    "    "
   ]
  },
  {
   "cell_type": "code",
   "execution_count": 27,
   "id": "d4e89ed3",
   "metadata": {},
   "outputs": [],
   "source": []
  },
  {
   "cell_type": "code",
   "execution_count": null,
   "id": "3ad352b2",
   "metadata": {},
   "outputs": [],
   "source": []
  },
  {
   "cell_type": "code",
   "execution_count": null,
   "id": "a7deeff1",
   "metadata": {},
   "outputs": [],
   "source": []
  },
  {
   "cell_type": "code",
   "execution_count": null,
   "id": "422d2035",
   "metadata": {},
   "outputs": [],
   "source": []
  },
  {
   "cell_type": "code",
   "execution_count": null,
   "id": "499297a3",
   "metadata": {},
   "outputs": [],
   "source": []
  },
  {
   "cell_type": "code",
   "execution_count": null,
   "id": "8edb9f9d",
   "metadata": {},
   "outputs": [],
   "source": []
  },
  {
   "cell_type": "code",
   "execution_count": null,
   "id": "b6689388",
   "metadata": {},
   "outputs": [],
   "source": []
  }
 ],
 "metadata": {
  "kernelspec": {
   "display_name": "Python 3 (ipykernel)",
   "language": "python",
   "name": "python3"
  },
  "language_info": {
   "codemirror_mode": {
    "name": "ipython",
    "version": 3
   },
   "file_extension": ".py",
   "mimetype": "text/x-python",
   "name": "python",
   "nbconvert_exporter": "python",
   "pygments_lexer": "ipython3",
   "version": "3.9.12"
  }
 },
 "nbformat": 4,
 "nbformat_minor": 5
}
