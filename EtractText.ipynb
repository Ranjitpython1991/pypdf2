{
 "cells": [
  {
   "cell_type": "code",
   "execution_count": null,
   "id": "34e51e12",
   "metadata": {},
   "outputs": [],
   "source": []
  },
  {
   "cell_type": "code",
   "execution_count": null,
   "id": "4e928591",
   "metadata": {},
   "outputs": [],
   "source": []
  },
  {
   "cell_type": "code",
   "execution_count": 1,
   "id": "6c2a9ee3",
   "metadata": {},
   "outputs": [],
   "source": [
    "import PyPDF2"
   ]
  },
  {
   "cell_type": "code",
   "execution_count": 2,
   "id": "e061e292",
   "metadata": {},
   "outputs": [],
   "source": [
    "from PyPDF2 import PdfReader"
   ]
  },
  {
   "cell_type": "code",
   "execution_count": 3,
   "id": "a5e65329",
   "metadata": {},
   "outputs": [],
   "source": [
    "reader = PdfReader(r'D:\\pypdf2\\sample.pdf')"
   ]
  },
  {
   "cell_type": "code",
   "execution_count": 9,
   "id": "179b7b59",
   "metadata": {},
   "outputs": [
    {
     "name": "stdout",
     "output_type": "stream",
     "text": [
      "2\n"
     ]
    }
   ],
   "source": [
    "number_of_pages = len(reader.pages)\n",
    "print(number_of_pages)"
   ]
  },
  {
   "cell_type": "code",
   "execution_count": 30,
   "id": "42eacf2f",
   "metadata": {},
   "outputs": [
    {
     "name": "stdout",
     "output_type": "stream",
     "text": [
      "{'/Creator': 'Rave (http://www.nevrona.com/rave)', '/Producer': 'Nevrona Designs', '/CreationDate': 'D:20060301072826'}\n"
     ]
    }
   ],
   "source": [
    "info=reader.documentInfo\n",
    "print(info)"
   ]
  },
  {
   "cell_type": "code",
   "execution_count": 39,
   "id": "57799f33",
   "metadata": {},
   "outputs": [
    {
     "name": "stdout",
     "output_type": "stream",
     "text": [
      "Creator: Rave (http://www.nevrona.com/rave)\n",
      "Producer: Nevrona Designs\n"
     ]
    }
   ],
   "source": [
    "print(\"Creator\" +': ' + info.creator)\n",
    "print(\"Producer\" +': ' + info.producer)"
   ]
  },
  {
   "cell_type": "code",
   "execution_count": null,
   "id": "351a93c0",
   "metadata": {},
   "outputs": [],
   "source": []
  },
  {
   "cell_type": "code",
   "execution_count": 12,
   "id": "3a2c4b8b",
   "metadata": {},
   "outputs": [
    {
     "data": {
      "text/plain": [
       "2"
      ]
     },
     "execution_count": 12,
     "metadata": {},
     "output_type": "execute_result"
    }
   ],
   "source": [
    "#  number of pages in the PDF using the numPages\n",
    "reader.numPages"
   ]
  },
  {
   "cell_type": "code",
   "execution_count": 13,
   "id": "6bbd5fa2",
   "metadata": {},
   "outputs": [
    {
     "data": {
      "text/plain": [
       "{'/Type': '/Page',\n",
       " '/Parent': {'/Type': '/Pages',\n",
       "  '/Count': 2,\n",
       "  '/Kids': [IndirectObject(4, 0, 2050110506320),\n",
       "   IndirectObject(6, 0, 2050110506320)]},\n",
       " '/Resources': {'/Font': {'/F1': {'/Type': '/Font',\n",
       "    '/Subtype': '/Type1',\n",
       "    '/Name': '/F1',\n",
       "    '/BaseFont': '/Helvetica',\n",
       "    '/Encoding': '/WinAnsiEncoding'}},\n",
       "  '/ProcSet': ['/PDF', '/Text']},\n",
       " '/MediaBox': [0, 0, 612, 792],\n",
       " '/Contents': {}}"
      ]
     },
     "execution_count": 13,
     "metadata": {},
     "output_type": "execute_result"
    }
   ],
   "source": [
    "# getPage() method returns the object for the page number passed to it as a parameter.\n",
    "reader.getPage(0)"
   ]
  },
  {
   "cell_type": "code",
   "execution_count": 15,
   "id": "24b8c1ad",
   "metadata": {},
   "outputs": [
    {
     "name": "stdout",
     "output_type": "stream",
     "text": [
      " A Simple PDF File \n",
      "\n",
      " This is a small demonstration .pdf file - \n",
      "\n",
      " just for use in the Virtual Mechanics tutorials. More text. And more \n",
      "\n",
      " text. And more text. And more text. And more text. \n",
      "\n",
      " And more text. And more text. And more text. And more text. And more \n",
      "\n",
      " text. And more text. Boring, zzzzz. And more text. And more text. And \n",
      "\n",
      " more text. And more text. And more text. And more text. And more text. \n",
      "\n",
      " And more text. And more text. \n",
      "\n",
      " And more text. And more text. And more text. And more text. And more \n",
      "\n",
      " text. And more text. And more text. Even more. Continued on page 2 ...\n"
     ]
    }
   ],
   "source": [
    "page1=reader.getPage(0)\n",
    "print(page1.extractText())"
   ]
  },
  {
   "cell_type": "code",
   "execution_count": null,
   "id": "ec5c413a",
   "metadata": {},
   "outputs": [],
   "source": []
  },
  {
   "cell_type": "code",
   "execution_count": 22,
   "id": "8e6ace24",
   "metadata": {},
   "outputs": [
    {
     "name": "stdout",
     "output_type": "stream",
     "text": [
      " Simple PDF File 2 \n",
      "\n",
      " ...continued from page 1. Yet more text. And more text. And more text. \n",
      "\n",
      " And more text. And more text. And more text. And more text. And more \n",
      "\n",
      " text. Oh, how boring typing this stuff. But not as boring as watching \n",
      "\n",
      " paint dry. And more text. And more text. And more text. And more text. \n",
      "\n",
      " Boring.  More, a little more text. The end, and just as well. \n"
     ]
    }
   ],
   "source": [
    "page2=reader.getPage(1)\n",
    "print(page1.extractText())"
   ]
  },
  {
   "cell_type": "code",
   "execution_count": 44,
   "id": "6d564411",
   "metadata": {},
   "outputs": [
    {
     "name": "stdout",
     "output_type": "stream",
     "text": [
      "===================\n",
      "Content on page:1\n",
      "===================\n",
      " A Simple PDF File \n",
      "\n",
      " This is a small demonstration .pdf file - \n",
      "\n",
      " just for use in the Virtual Mechanics tutorials. More text. And more \n",
      "\n",
      " text. And more text. And more text. And more text. \n",
      "\n",
      " And more text. And more text. And more text. And more text. And more \n",
      "\n",
      " text. And more text. Boring, zzzzz. And more text. And more text. And \n",
      "\n",
      " more text. And more text. And more text. And more text. And more text. \n",
      "\n",
      " And more text. And more text. \n",
      "\n",
      " And more text. And more text. And more text. And more text. And more \n",
      "\n",
      " text. And more text. And more text. Even more. Continued on page 2 ...\n",
      "===================\n",
      "Content on page:2\n",
      "===================\n",
      " Simple PDF File 2 \n",
      "\n",
      " ...continued from page 1. Yet more text. And more text. And more text. \n",
      "\n",
      " And more text. And more text. And more text. And more text. And more \n",
      "\n",
      " text. Oh, how boring typing this stuff. But not as boring as watching \n",
      "\n",
      " paint dry. And more text. And more text. And more text. And more text. \n",
      "\n",
      " Boring.  More, a little more text. The end, and just as well. \n"
     ]
    }
   ],
   "source": [
    "for i in range(reader.numPages):\n",
    "    current_page = reader.getPage(i)\n",
    "    print(\"===================\")\n",
    "    print(\"Content on page:\" + str(i + 1))\n",
    "    print(\"===================\")\n",
    "    print(current_page.extractText())"
   ]
  },
  {
   "cell_type": "raw",
   "id": "eab37479",
   "metadata": {},
   "source": []
  },
  {
   "cell_type": "code",
   "execution_count": null,
   "id": "523c8a6d",
   "metadata": {},
   "outputs": [],
   "source": []
  },
  {
   "cell_type": "code",
   "execution_count": null,
   "id": "1593f234",
   "metadata": {},
   "outputs": [],
   "source": []
  },
  {
   "cell_type": "code",
   "execution_count": null,
   "id": "f9882c5a",
   "metadata": {},
   "outputs": [],
   "source": []
  },
  {
   "cell_type": "code",
   "execution_count": null,
   "id": "2562d2fc",
   "metadata": {},
   "outputs": [],
   "source": []
  },
  {
   "cell_type": "code",
   "execution_count": null,
   "id": "d6d56b13",
   "metadata": {},
   "outputs": [],
   "source": []
  }
 ],
 "metadata": {
  "kernelspec": {
   "display_name": "Python 3 (ipykernel)",
   "language": "python",
   "name": "python3"
  },
  "language_info": {
   "codemirror_mode": {
    "name": "ipython",
    "version": 3
   },
   "file_extension": ".py",
   "mimetype": "text/x-python",
   "name": "python",
   "nbconvert_exporter": "python",
   "pygments_lexer": "ipython3",
   "version": "3.9.12"
  }
 },
 "nbformat": 4,
 "nbformat_minor": 5
}
