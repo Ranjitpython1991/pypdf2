{
 "cells": [
  {
   "cell_type": "code",
   "execution_count": null,
   "id": "b6e1ada5",
   "metadata": {},
   "outputs": [],
   "source": []
  },
  {
   "cell_type": "code",
   "execution_count": null,
   "id": "dfb76d44",
   "metadata": {},
   "outputs": [],
   "source": []
  },
  {
   "cell_type": "code",
   "execution_count": 3,
   "id": "499c4ad1",
   "metadata": {},
   "outputs": [],
   "source": [
    "import PyPDF2"
   ]
  },
  {
   "cell_type": "code",
   "execution_count": 36,
   "id": "fae9d9c2",
   "metadata": {},
   "outputs": [],
   "source": [
    "pdf_file=open(r'D:\\pypdf2\\Portrait.pdf', 'rb')"
   ]
  },
  {
   "cell_type": "code",
   "execution_count": 37,
   "id": "eccc95fc",
   "metadata": {},
   "outputs": [],
   "source": [
    "read_file=PyPDF2.PdfFileReader(pdf_file)"
   ]
  },
  {
   "cell_type": "code",
   "execution_count": 38,
   "id": "119ef3dd",
   "metadata": {},
   "outputs": [
    {
     "name": "stdout",
     "output_type": "stream",
     "text": [
      "1\n"
     ]
    }
   ],
   "source": [
    "number_of_pages = read_file.numPages\n",
    "print(number_of_pages)"
   ]
  },
  {
   "cell_type": "code",
   "execution_count": 39,
   "id": "04265241",
   "metadata": {},
   "outputs": [],
   "source": [
    "page1=read_file.getPage(0)"
   ]
  },
  {
   "cell_type": "code",
   "execution_count": 40,
   "id": "afdce572",
   "metadata": {},
   "outputs": [
    {
     "name": "stdout",
     "output_type": "stream",
     "text": [
      "\n"
     ]
    }
   ],
   "source": [
    "print(page1.extractText())"
   ]
  },
  {
   "cell_type": "code",
   "execution_count": 41,
   "id": "2db38c3d",
   "metadata": {},
   "outputs": [
    {
     "data": {
      "text/plain": [
       "{'/Type': '/Page',\n",
       " '/MediaBox': [0, 0, 595, 842],\n",
       " '/Resources': {'/XObject': {'/X0': {'/Type': '/XObject',\n",
       "    '/Subtype': '/Image',\n",
       "    '/Width': 1240,\n",
       "    '/Height': 1240,\n",
       "    '/BitsPerComponent': 8,\n",
       "    '/ColorSpace': '/DeviceRGB',\n",
       "    '/Filter': ['/FlateDecode', '/DCTDecode'],\n",
       "    '/DecodeParms': [<PyPDF2.generic.NullObject at 0x224620b1a90>,\n",
       "     {'/Quality': 60}]}}},\n",
       " '/Contents': {'/Filter': '/FlateDecode'},\n",
       " '/Parent': {'/Type': '/Pages',\n",
       "  '/Kids': [IndirectObject(3, 0, 2355282778000)],\n",
       "  '/Count': 1},\n",
       " '/Rotate': 90}"
      ]
     },
     "execution_count": 41,
     "metadata": {},
     "output_type": "execute_result"
    }
   ],
   "source": [
    "page1=read_file.getPage(0)\n",
    "page1.rotateClockwise(90)"
   ]
  },
  {
   "cell_type": "code",
   "execution_count": 42,
   "id": "80525b4f",
   "metadata": {},
   "outputs": [],
   "source": [
    "# creating a pdf writer object for new pdf\n",
    "pdfWriter = PyPDF2.PdfFileWriter()"
   ]
  },
  {
   "cell_type": "code",
   "execution_count": 43,
   "id": "8b2ec0bf",
   "metadata": {},
   "outputs": [],
   "source": [
    "# adding rotated page object to pdf writer\n",
    "pdfWriter.addPage(page1)"
   ]
  },
  {
   "cell_type": "code",
   "execution_count": 44,
   "id": "aff50620",
   "metadata": {},
   "outputs": [],
   "source": [
    "# new pdf file object\n",
    "newFile = open('newimage.pdf', 'wb')\n",
    "\n",
    "# writing rotated pages to new file\n",
    "pdfWriter.write(newFile)\n",
    "\n",
    "# closing the original pdf file object\n",
    "pdf_file.close()\n",
    "\n",
    "# closing the new pdf file object\n",
    "newFile.close()"
   ]
  },
  {
   "cell_type": "code",
   "execution_count": null,
   "id": "7f255136",
   "metadata": {},
   "outputs": [],
   "source": [
    "# rotate counter clockwise\n"
   ]
  },
  {
   "cell_type": "code",
   "execution_count": 50,
   "id": "62426bef",
   "metadata": {},
   "outputs": [],
   "source": [
    "page2=read_file.getPage(0)\n",
    "page2.rotateCounterClockwise(270)\n",
    "\n",
    "# new pdf file object\n",
    "newFile = open('cnewimage.pdf', 'wb')\n",
    "\n",
    "# writing rotated pages to new file\n",
    "pdfWriter.write(newFile)\n",
    "\n",
    "# closing the original pdf file object\n",
    "pdf_file.close()\n",
    "\n",
    "# closing the new pdf file object\n",
    "newFile.close()"
   ]
  },
  {
   "cell_type": "code",
   "execution_count": null,
   "id": "4dc4fb45",
   "metadata": {},
   "outputs": [],
   "source": []
  }
 ],
 "metadata": {
  "kernelspec": {
   "display_name": "Python 3 (ipykernel)",
   "language": "python",
   "name": "python3"
  },
  "language_info": {
   "codemirror_mode": {
    "name": "ipython",
    "version": 3
   },
   "file_extension": ".py",
   "mimetype": "text/x-python",
   "name": "python",
   "nbconvert_exporter": "python",
   "pygments_lexer": "ipython3",
   "version": "3.9.12"
  }
 },
 "nbformat": 4,
 "nbformat_minor": 5
}
